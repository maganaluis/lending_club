{
 "cells": [
  {
   "cell_type": "code",
   "execution_count": 7,
   "metadata": {},
   "outputs": [],
   "source": [
    "from IPython.display import display\n",
    "import pandas as pd\n",
    "import numpy as np\n",
    "from sklearn.model_selection import train_test_split\n",
    "from sklearn.metrics import log_loss\n",
    "from sklearn.linear_model import LogisticRegression\n",
    "from sklearn.ensemble import GradientBoostingClassifier\n",
    "from sklearn.neural_network import MLPClassifier"
   ]
  },
  {
   "cell_type": "code",
   "execution_count": 8,
   "metadata": {},
   "outputs": [],
   "source": [
    "df = pd.read_csv('loan_stat542.zip', compression='zip')"
   ]
  },
  {
   "cell_type": "code",
   "execution_count": 9,
   "metadata": {},
   "outputs": [],
   "source": [
    "tdf = pd.read_csv('Project3_test_id.csv').astype(int)"
   ]
  },
  {
   "cell_type": "code",
   "execution_count": 10,
   "metadata": {},
   "outputs": [],
   "source": [
    "df = df.reset_index()"
   ]
  },
  {
   "cell_type": "code",
   "execution_count": 11,
   "metadata": {},
   "outputs": [
    {
     "data": {
      "text/html": [
       "<div>\n",
       "<style scoped>\n",
       "    .dataframe tbody tr th:only-of-type {\n",
       "        vertical-align: middle;\n",
       "    }\n",
       "\n",
       "    .dataframe tbody tr th {\n",
       "        vertical-align: top;\n",
       "    }\n",
       "\n",
       "    .dataframe thead th {\n",
       "        text-align: right;\n",
       "    }\n",
       "</style>\n",
       "<table border=\"1\" class=\"dataframe\">\n",
       "  <thead>\n",
       "    <tr style=\"text-align: right;\">\n",
       "      <th></th>\n",
       "      <th>index</th>\n",
       "      <th>id</th>\n",
       "      <th>loan_amnt</th>\n",
       "      <th>term</th>\n",
       "      <th>int_rate</th>\n",
       "      <th>installment</th>\n",
       "      <th>grade</th>\n",
       "      <th>sub_grade</th>\n",
       "      <th>emp_title</th>\n",
       "      <th>emp_length</th>\n",
       "      <th>home_ownership</th>\n",
       "      <th>annual_inc</th>\n",
       "      <th>verification_status</th>\n",
       "      <th>loan_status</th>\n",
       "      <th>purpose</th>\n",
       "      <th>title</th>\n",
       "      <th>zip_code</th>\n",
       "      <th>addr_state</th>\n",
       "      <th>dti</th>\n",
       "      <th>earliest_cr_line</th>\n",
       "      <th>fico_range_low</th>\n",
       "      <th>fico_range_high</th>\n",
       "      <th>open_acc</th>\n",
       "      <th>pub_rec</th>\n",
       "      <th>revol_bal</th>\n",
       "      <th>revol_util</th>\n",
       "      <th>total_acc</th>\n",
       "      <th>initial_list_status</th>\n",
       "      <th>application_type</th>\n",
       "      <th>mort_acc</th>\n",
       "      <th>pub_rec_bankruptcies</th>\n",
       "    </tr>\n",
       "  </thead>\n",
       "  <tbody>\n",
       "    <tr>\n",
       "      <th>0</th>\n",
       "      <td>0</td>\n",
       "      <td>38098114</td>\n",
       "      <td>15000</td>\n",
       "      <td>60 months</td>\n",
       "      <td>12.39</td>\n",
       "      <td>336.64</td>\n",
       "      <td>C</td>\n",
       "      <td>C1</td>\n",
       "      <td>MANAGEMENT</td>\n",
       "      <td>10+ years</td>\n",
       "      <td>RENT</td>\n",
       "      <td>78000.0</td>\n",
       "      <td>Source Verified</td>\n",
       "      <td>Fully Paid</td>\n",
       "      <td>debt_consolidation</td>\n",
       "      <td>Debt consolidation</td>\n",
       "      <td>235xx</td>\n",
       "      <td>VA</td>\n",
       "      <td>12.03</td>\n",
       "      <td>Aug-1994</td>\n",
       "      <td>750</td>\n",
       "      <td>754</td>\n",
       "      <td>6</td>\n",
       "      <td>0</td>\n",
       "      <td>138008.0</td>\n",
       "      <td>29.0</td>\n",
       "      <td>17</td>\n",
       "      <td>w</td>\n",
       "      <td>Individual</td>\n",
       "      <td>0.0</td>\n",
       "      <td>0.0</td>\n",
       "    </tr>\n",
       "    <tr>\n",
       "      <th>1</th>\n",
       "      <td>1</td>\n",
       "      <td>36805548</td>\n",
       "      <td>10400</td>\n",
       "      <td>36 months</td>\n",
       "      <td>6.99</td>\n",
       "      <td>321.08</td>\n",
       "      <td>A</td>\n",
       "      <td>A3</td>\n",
       "      <td>Truck Driver Delivery Personel</td>\n",
       "      <td>8 years</td>\n",
       "      <td>MORTGAGE</td>\n",
       "      <td>58000.0</td>\n",
       "      <td>Not Verified</td>\n",
       "      <td>Charged Off</td>\n",
       "      <td>credit_card</td>\n",
       "      <td>Credit card refinancing</td>\n",
       "      <td>937xx</td>\n",
       "      <td>CA</td>\n",
       "      <td>14.92</td>\n",
       "      <td>Sep-1989</td>\n",
       "      <td>710</td>\n",
       "      <td>714</td>\n",
       "      <td>17</td>\n",
       "      <td>0</td>\n",
       "      <td>6133.0</td>\n",
       "      <td>31.6</td>\n",
       "      <td>36</td>\n",
       "      <td>w</td>\n",
       "      <td>Individual</td>\n",
       "      <td>1.0</td>\n",
       "      <td>0.0</td>\n",
       "    </tr>\n",
       "    <tr>\n",
       "      <th>2</th>\n",
       "      <td>2</td>\n",
       "      <td>37842129</td>\n",
       "      <td>21425</td>\n",
       "      <td>60 months</td>\n",
       "      <td>15.59</td>\n",
       "      <td>516.36</td>\n",
       "      <td>D</td>\n",
       "      <td>D1</td>\n",
       "      <td>Programming Analysis Supervisor</td>\n",
       "      <td>6 years</td>\n",
       "      <td>RENT</td>\n",
       "      <td>63800.0</td>\n",
       "      <td>Source Verified</td>\n",
       "      <td>Fully Paid</td>\n",
       "      <td>credit_card</td>\n",
       "      <td>Credit card refinancing</td>\n",
       "      <td>658xx</td>\n",
       "      <td>MO</td>\n",
       "      <td>18.49</td>\n",
       "      <td>Aug-2003</td>\n",
       "      <td>685</td>\n",
       "      <td>689</td>\n",
       "      <td>10</td>\n",
       "      <td>0</td>\n",
       "      <td>16374.0</td>\n",
       "      <td>76.2</td>\n",
       "      <td>35</td>\n",
       "      <td>w</td>\n",
       "      <td>Individual</td>\n",
       "      <td>0.0</td>\n",
       "      <td>0.0</td>\n",
       "    </tr>\n",
       "    <tr>\n",
       "      <th>3</th>\n",
       "      <td>3</td>\n",
       "      <td>37662224</td>\n",
       "      <td>7650</td>\n",
       "      <td>36 months</td>\n",
       "      <td>13.66</td>\n",
       "      <td>260.20</td>\n",
       "      <td>C</td>\n",
       "      <td>C3</td>\n",
       "      <td>Technical Specialist</td>\n",
       "      <td>&lt; 1 year</td>\n",
       "      <td>RENT</td>\n",
       "      <td>50000.0</td>\n",
       "      <td>Source Verified</td>\n",
       "      <td>Charged Off</td>\n",
       "      <td>debt_consolidation</td>\n",
       "      <td>Debt consolidation</td>\n",
       "      <td>850xx</td>\n",
       "      <td>AZ</td>\n",
       "      <td>34.81</td>\n",
       "      <td>Aug-2002</td>\n",
       "      <td>685</td>\n",
       "      <td>689</td>\n",
       "      <td>11</td>\n",
       "      <td>0</td>\n",
       "      <td>16822.0</td>\n",
       "      <td>91.9</td>\n",
       "      <td>20</td>\n",
       "      <td>f</td>\n",
       "      <td>Individual</td>\n",
       "      <td>0.0</td>\n",
       "      <td>0.0</td>\n",
       "    </tr>\n",
       "  </tbody>\n",
       "</table>\n",
       "</div>"
      ],
      "text/plain": [
       "   index        id  loan_amnt       term  int_rate  installment grade  \\\n",
       "0      0  38098114      15000  60 months     12.39       336.64     C   \n",
       "1      1  36805548      10400  36 months      6.99       321.08     A   \n",
       "2      2  37842129      21425  60 months     15.59       516.36     D   \n",
       "3      3  37662224       7650  36 months     13.66       260.20     C   \n",
       "\n",
       "  sub_grade                        emp_title emp_length home_ownership  \\\n",
       "0        C1                       MANAGEMENT  10+ years           RENT   \n",
       "1        A3   Truck Driver Delivery Personel    8 years       MORTGAGE   \n",
       "2        D1  Programming Analysis Supervisor    6 years           RENT   \n",
       "3        C3             Technical Specialist   < 1 year           RENT   \n",
       "\n",
       "   annual_inc verification_status  loan_status             purpose  \\\n",
       "0     78000.0     Source Verified   Fully Paid  debt_consolidation   \n",
       "1     58000.0        Not Verified  Charged Off         credit_card   \n",
       "2     63800.0     Source Verified   Fully Paid         credit_card   \n",
       "3     50000.0     Source Verified  Charged Off  debt_consolidation   \n",
       "\n",
       "                     title zip_code addr_state    dti earliest_cr_line  \\\n",
       "0       Debt consolidation    235xx         VA  12.03         Aug-1994   \n",
       "1  Credit card refinancing    937xx         CA  14.92         Sep-1989   \n",
       "2  Credit card refinancing    658xx         MO  18.49         Aug-2003   \n",
       "3       Debt consolidation    850xx         AZ  34.81         Aug-2002   \n",
       "\n",
       "   fico_range_low  fico_range_high  open_acc  pub_rec  revol_bal  revol_util  \\\n",
       "0             750              754         6        0   138008.0        29.0   \n",
       "1             710              714        17        0     6133.0        31.6   \n",
       "2             685              689        10        0    16374.0        76.2   \n",
       "3             685              689        11        0    16822.0        91.9   \n",
       "\n",
       "   total_acc initial_list_status application_type  mort_acc  \\\n",
       "0         17                   w       Individual       0.0   \n",
       "1         36                   w       Individual       1.0   \n",
       "2         35                   w       Individual       0.0   \n",
       "3         20                   f       Individual       0.0   \n",
       "\n",
       "   pub_rec_bankruptcies  \n",
       "0                   0.0  \n",
       "1                   0.0  \n",
       "2                   0.0  \n",
       "3                   0.0  "
      ]
     },
     "metadata": {},
     "output_type": "display_data"
    }
   ],
   "source": [
    "with pd.option_context('display.max_columns', None):\n",
    "    display(df.head(4))"
   ]
  },
  {
   "cell_type": "markdown",
   "metadata": {},
   "source": [
    "We need to create categories for *emp_title* and *title*.\n",
    "\n",
    "Somehow we need to handle *zip_code* as well.\n",
    "\n",
    "*earliest_cr_line* should be stripped from mohths."
   ]
  },
  {
   "cell_type": "code",
   "execution_count": 12,
   "metadata": {},
   "outputs": [],
   "source": [
    "CAT_COLS = [\"term\", \"grade\", \"sub_grade\", \"emp_length\", \"home_ownership\", \n",
    "            \"verification_status\", \"purpose\", \"addr_state\", \n",
    "            \"initial_list_status\", \"application_type\"]"
   ]
  },
  {
   "cell_type": "code",
   "execution_count": 13,
   "metadata": {},
   "outputs": [],
   "source": [
    "df = df.drop(columns=[\"emp_title\", \"zip_code\", \"title\", \"earliest_cr_line\"])"
   ]
  },
  {
   "cell_type": "code",
   "execution_count": 14,
   "metadata": {},
   "outputs": [],
   "source": [
    "df = pd.get_dummies(df, columns=CAT_COLS)"
   ]
  },
  {
   "cell_type": "code",
   "execution_count": 15,
   "metadata": {},
   "outputs": [],
   "source": [
    "df['loan_status'] = np.where(df['loan_status']==\"Fully Paid\", 1, 0)"
   ]
  },
  {
   "cell_type": "code",
   "execution_count": 16,
   "metadata": {},
   "outputs": [],
   "source": [
    "df = df.fillna(df.mean())"
   ]
  },
  {
   "cell_type": "code",
   "execution_count": 17,
   "metadata": {},
   "outputs": [],
   "source": [
    "testidx = df.id.isin(tdf.test3)\n",
    "trainidx = ~df.id.isin(tdf.test3)"
   ]
  },
  {
   "cell_type": "code",
   "execution_count": 18,
   "metadata": {},
   "outputs": [],
   "source": [
    "mu = df.mean()\n",
    "std = df.std()\n",
    "df = (df - mu) / std\n",
    "min_val = np.abs(df.min().min())\n",
    "df.loan_status = (df.loan_status * std.loan_status) + mu.loan_status "
   ]
  },
  {
   "cell_type": "code",
   "execution_count": 19,
   "metadata": {},
   "outputs": [],
   "source": [
    "dfTest = df[testidx]\n",
    "dfTrain = df[trainidx]\n",
    "X_train = dfTrain.loc[:, dfTrain.columns != 'loan_status'].values\n",
    "y_train = dfTrain.loan_status.values\n",
    "X_test = dfTest.loc[:, dfTest.columns != 'loan_status'].values\n",
    "y_test = dfTest.loan_status.values"
   ]
  },
  {
   "cell_type": "code",
   "execution_count": null,
   "metadata": {},
   "outputs": [],
   "source": [
    "clf = LogisticRegression(random_state=0, solver='lbfgs', \n",
    "                         multi_class='multinomial', n_jobs=-1).fit(X_train, y_train)"
   ]
  },
  {
   "cell_type": "code",
   "execution_count": 81,
   "metadata": {},
   "outputs": [],
   "source": [
    "clf = GradientBoostingClassifier(random_state=0)"
   ]
  },
  {
   "cell_type": "code",
   "execution_count": 78,
   "metadata": {},
   "outputs": [],
   "source": [
    "clf = MLPClassifier(hidden_layer_sizes=(25,), alpha=0.000001, activation='relu')"
   ]
  },
  {
   "cell_type": "code",
   "execution_count": 82,
   "metadata": {},
   "outputs": [
    {
     "data": {
      "text/plain": [
       "GradientBoostingClassifier(criterion='friedman_mse', init=None,\n",
       "              learning_rate=0.1, loss='deviance', max_depth=3,\n",
       "              max_features=None, max_leaf_nodes=None,\n",
       "              min_impurity_decrease=0.0, min_impurity_split=None,\n",
       "              min_samples_leaf=1, min_samples_split=2,\n",
       "              min_weight_fraction_leaf=0.0, n_estimators=100,\n",
       "              presort='auto', random_state=0, subsample=1.0, verbose=0,\n",
       "              warm_start=False)"
      ]
     },
     "execution_count": 82,
     "metadata": {},
     "output_type": "execute_result"
    }
   ],
   "source": [
    "clf.fit(X_train, y_train)"
   ]
  },
  {
   "cell_type": "code",
   "execution_count": 83,
   "metadata": {},
   "outputs": [
    {
     "data": {
      "text/plain": [
       "0.44637480094682097"
      ]
     },
     "execution_count": 83,
     "metadata": {},
     "output_type": "execute_result"
    }
   ],
   "source": [
    "log_loss(y_test, clf.predict_proba(X_test))"
   ]
  }
 ],
 "metadata": {
  "kernelspec": {
   "display_name": "Python 3",
   "language": "python",
   "name": "python3"
  },
  "language_info": {
   "codemirror_mode": {
    "name": "ipython",
    "version": 3
   },
   "file_extension": ".py",
   "mimetype": "text/x-python",
   "name": "python",
   "nbconvert_exporter": "python",
   "pygments_lexer": "ipython3",
   "version": "3.7.0"
  }
 },
 "nbformat": 4,
 "nbformat_minor": 2
}
